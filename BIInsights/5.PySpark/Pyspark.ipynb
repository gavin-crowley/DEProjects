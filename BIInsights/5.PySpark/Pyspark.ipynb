{
 "cells": [
  {
   "attachments": {},
   "cell_type": "markdown",
   "id": "64451dbe",
   "metadata": {
    "heading_collapsed": true
   },
   "source": [
    "### Install Pyspark"
   ]
  },
  {
   "cell_type": "code",
   "execution_count": 1,
   "id": "6b70a63c",
   "metadata": {
    "hidden": true
   },
   "outputs": [
    {
     "name": "stdout",
     "output_type": "stream",
     "text": [
      "^C\n"
     ]
    }
   ],
   "source": [
    "# !pip install pyspark"
   ]
  },
  {
   "attachments": {},
   "cell_type": "markdown",
   "id": "e9cb4e55",
   "metadata": {
    "heading_collapsed": true
   },
   "source": [
    "### Import libraries"
   ]
  },
  {
   "cell_type": "code",
   "execution_count": 2,
   "id": "2bf6eb76",
   "metadata": {
    "hidden": true
   },
   "outputs": [],
   "source": [
    "from pyspark import SparkContext, SparkConf\n",
    "from pyspark.sql import SparkSession, SQLContext\n",
    "import os"
   ]
  },
  {
   "attachments": {},
   "cell_type": "markdown",
   "id": "5ab8b9f1",
   "metadata": {
    "heading_collapsed": true
   },
   "source": [
    "### Set Java home"
   ]
  },
  {
   "cell_type": "code",
   "execution_count": 6,
   "id": "df4b84bd",
   "metadata": {
    "hidden": true
   },
   "outputs": [],
   "source": [
    "# set Java home\n",
    "# os.environ[\"JAVA_HOME\"] = \"C:\\Program Files\\Java\\jdk-18.0.2.1\"\n",
    "# os.environ[\"JAVA_HOME\"] = \"C:\\Program Files\\Eclipse Adoptium\\jdk-11.0.18.10-hotspot\\bin\\java\"\n",
    "os.environ[\"JAVA_HOME\"] = \"C:\\Program Files\\Eclipse Adoptium\\jdk-11.0.18.10-hotspot\""
   ]
  },
  {
   "attachments": {},
   "cell_type": "markdown",
   "id": "6ec11b80",
   "metadata": {
    "heading_collapsed": true
   },
   "source": [
    "### Initiate Spark Context"
   ]
  },
  {
   "cell_type": "code",
   "execution_count": 8,
   "id": "6296dc8a",
   "metadata": {
    "hidden": true
   },
   "outputs": [],
   "source": [
    "conf = SparkConf() \\\n",
    "    .setAppName(\"Example\") \\\n",
    "    .setMaster(\"local\") \\\n",
    "    .set(\"spark.driver.extraClassPath\",\"C:/pyspark/*\")"
   ]
  },
  {
   "cell_type": "code",
   "execution_count": 9,
   "id": "1f313606",
   "metadata": {
    "hidden": true
   },
   "outputs": [],
   "source": [
    "sc = SparkContext.getOrCreate(conf=conf)\n",
    "spark = SparkSession(sc)"
   ]
  },
  {
   "cell_type": "code",
   "execution_count": 10,
   "id": "055bb7cb",
   "metadata": {
    "hidden": true
   },
   "outputs": [
    {
     "data": {
      "text/html": [
       "\n",
       "            <div>\n",
       "                <p><b>SparkSession - in-memory</b></p>\n",
       "                \n",
       "        <div>\n",
       "            <p><b>SparkContext</b></p>\n",
       "\n",
       "            <p><a href=\"http://LAPTOP-7L39KNKT.mshome.net:4040\">Spark UI</a></p>\n",
       "\n",
       "            <dl>\n",
       "              <dt>Version</dt>\n",
       "                <dd><code>v3.4.1</code></dd>\n",
       "              <dt>Master</dt>\n",
       "                <dd><code>local</code></dd>\n",
       "              <dt>AppName</dt>\n",
       "                <dd><code>Example</code></dd>\n",
       "            </dl>\n",
       "        </div>\n",
       "        \n",
       "            </div>\n",
       "        "
      ],
      "text/plain": [
       "<pyspark.sql.session.SparkSession at 0x27d7de5b340>"
      ]
     },
     "execution_count": 10,
     "metadata": {},
     "output_type": "execute_result"
    }
   ],
   "source": [
    "spark"
   ]
  },
  {
   "attachments": {},
   "cell_type": "markdown",
   "id": "c9ea1bcf",
   "metadata": {
    "heading_collapsed": true
   },
   "source": [
    "### Read CSV File"
   ]
  },
  {
   "cell_type": "code",
   "execution_count": 11,
   "id": "bedc3c1b",
   "metadata": {
    "hidden": true,
    "scrolled": true
   },
   "outputs": [
    {
     "name": "stdout",
     "output_type": "stream",
     "text": [
      "+---------------+------------------+--------------------+--------------+--------------+------+-------------+----------------+-----------+----------+---------+------------+---------+-----------------+--------+---------+-----------------+----------+-------------+---------+\n",
      "|productcategory|productsubcategory|             product| saleterritory|       Country|  City|         Sate|        Customer|   Employee|OrderCount|OrderDate|StandardCost|UnitPrice|UnitPriceDiscount|Discount|ListPrice|SaleswithStandard|  NetSales|OrderQuantity|    Sales|\n",
      "+---------------+------------------+--------------------+--------------+--------------+------+-------------+----------------+-----------+----------+---------+------------+---------+-----------------+--------+---------+-----------------+----------+-------------+---------+\n",
      "|       Clothing|              Caps|        AWC Logo Cap|United Kingdom|United Kingdom| Berks|      England|      Gary Suess|Amy Alberts|         1|  00:00.0|      6.9223|   5.0136|             0.02|  1.4038|   8.6442|          96.9122|-28.125608|           14|68.786592|\n",
      "|    Accessories|             Locks|          Cable Lock|United Kingdom|United Kingdom| Berks|      England|      Gary Suess|Amy Alberts|         1|  00:00.0|     10.3125|       15|                0|       0|       25|           61.875|    28.125|            6|       90|\n",
      "|       Clothing|            Gloves|Full-Finger Glove...|United Kingdom|United Kingdom| Berks|      England|      Gary Suess|Amy Alberts|         1|  00:00.0|     15.6709|   22.794|                0|       0|    37.99|         125.3672|   56.9848|            8|  182.352|\n",
      "|       Clothing|            Gloves|Full-Finger Glove...|United Kingdom|United Kingdom|London|      England|    Linda Martin|Amy Alberts|         1|  00:00.0|     15.6709|  20.8945|             0.05| 16.7156|    37.99|         250.7344|    66.862|           16| 317.5964|\n",
      "|       Clothing|            Gloves|Full-Finger Glove...|United Kingdom|United Kingdom| Berks|      England|      Gary Suess|Amy Alberts|         1|  00:00.0|     15.6709|   22.794|                0|       0|    37.99|         109.6963|   49.8617|            7|  159.558|\n",
      "|       Clothing|            Gloves|Full-Finger Glove...|United Kingdom|United Kingdom|London|      England|    Linda Martin|Amy Alberts|         1|  00:00.0|     15.6709|   22.794|                0|       0|    37.99|          31.3418|   14.2462|            2|   45.588|\n",
      "|       Clothing|            Gloves|Full-Finger Glove...|United Kingdom|United Kingdom| Berks|      England|      Gary Suess|Amy Alberts|         1|  00:00.0|     15.6709|   22.794|                0|       0|    37.99|          15.6709|    7.1231|            1|   22.794|\n",
      "|       Clothing|            Gloves|Full-Finger Glove...|United Kingdom|United Kingdom|London|      England|    Linda Martin|Amy Alberts|         1|  00:00.0|     15.6709|   22.794|                0|       0|    37.99|          15.6709|    7.1231|            1|   22.794|\n",
      "|       Clothing|            Gloves|Half-Finger Glove...|United Kingdom|United Kingdom| Berks|      England|      Gary Suess|Amy Alberts|         1|  00:00.0|      9.1593|  14.1289|                0|       0|  23.5481|          27.4779|   14.9088|            3|  42.3867|\n",
      "|       Clothing|            Gloves|Half-Finger Glove...|United Kingdom|United Kingdom| Berks|      England|      Gary Suess|Amy Alberts|         1|  00:00.0|      9.1593|  14.1289|                0|       0|  23.5481|          73.2744|   39.7568|            8| 113.0312|\n",
      "|       Clothing|            Gloves|Half-Finger Glove...|United Kingdom|United Kingdom| Berks|      England|      Gary Suess|Amy Alberts|         1|  00:00.0|      9.1593|  14.1289|                0|       0|  23.5481|          27.4779|   14.9088|            3|  42.3867|\n",
      "|     Components|             Forks|             HL Fork|United Kingdom|United Kingdom| Berks|      England|      Gary Suess|Amy Alberts|         1|  00:00.0|    101.8936|  137.694|                0|       0|   229.49|         611.3616|  214.8024|            6|  826.164|\n",
      "|     Components|          Headsets|          HL Headset|United Kingdom|United Kingdom| Berks|      England|      Gary Suess|Amy Alberts|         1|  00:00.0|     55.3801|   74.838|                0|       0|   124.73|         110.7602|   38.9158|            2|  149.676|\n",
      "|     Components|   Mountain Frames|HL Mountain Frame...|United Kingdom|United Kingdom| Berks|      England|      Gary Suess|Amy Alberts|         1|  00:00.0|     739.041| 736.1455|                0|       0|1226.9091|         1478.082|    -5.791|            2| 1472.291|\n",
      "|     Components|   Mountain Frames|HL Mountain Frame...|United Kingdom|United Kingdom| Berks|      England|      Gary Suess|Amy Alberts|         1|  00:00.0|     739.041| 736.1455|                0|       0|1226.9091|          739.041|   -2.8955|            1| 736.1455|\n",
      "|     Components|   Mountain Frames|HL Mountain Frame...|United Kingdom|United Kingdom| Berks|      England|      Gary Suess|Amy Alberts|         1|  00:00.0|    747.2002| 744.2727|                0|       0|1240.4545|         747.2002|   -2.9275|            1| 744.2727|\n",
      "|     Components|   Mountain Frames|HL Mountain Frame...|United Kingdom|United Kingdom| Berks|      England|      Gary Suess|Amy Alberts|         1|  00:00.0|    747.2002| 744.2727|                0|       0|1240.4545|        4483.2012|   -17.565|            6|4465.6362|\n",
      "|     Components|   Mountain Frames|HL Mountain Frame...|United Kingdom|United Kingdom| Berks|      England|      Gary Suess|Amy Alberts|         1|  00:00.0|    747.2002| 744.2727|                0|       0|1240.4545|        2241.6006|   -8.7825|            3|2232.8181|\n",
      "|     Components|            Wheels|HL Mountain Front...|United Kingdom|United Kingdom| Berks|      England|      Gary Suess|Amy Alberts|         1|  00:00.0|    133.2955|  180.129|                0|       0|  300.215|          266.591|    93.667|            2|  360.258|\n",
      "|     Components|        Handlebars|HL Mountain Handl...|        France|        France| Paris|Seine (Paris)|Ty Loren Carlson|Amy Alberts|         1|  00:00.0|     53.3999|  65.6018|                0|       0| 109.3364|          53.3999|   12.2019|            1|  65.6018|\n",
      "+---------------+------------------+--------------------+--------------+--------------+------+-------------+----------------+-----------+----------+---------+------------+---------+-----------------+--------+---------+-----------------+----------+-------------+---------+\n",
      "only showing top 20 rows\n",
      "\n"
     ]
    }
   ],
   "source": [
    "# df=spark.read.options(delimiter=\",\", header=True).csv(r\"C:\\Users\\haq\\OneDrive\\Notebooks\\data\\AdvWorksData.csv\")\n",
    "df=spark.read.options(delimiter=\",\", header=True).csv(r\"C:\\Users\\gavin\\Documents\\DEProjects\\BIInsights\\5.PySpark\\AdvWorksData.csv\")\n",
    "df.show()"
   ]
  },
  {
   "cell_type": "code",
   "execution_count": 12,
   "id": "422e9bfc",
   "metadata": {
    "hidden": true
   },
   "outputs": [
    {
     "name": "stdout",
     "output_type": "stream",
     "text": [
      "root\n",
      " |-- productcategory: string (nullable = true)\n",
      " |-- productsubcategory: string (nullable = true)\n",
      " |-- product: string (nullable = true)\n",
      " |-- saleterritory: string (nullable = true)\n",
      " |-- Country: string (nullable = true)\n",
      " |-- City: string (nullable = true)\n",
      " |-- Sate: string (nullable = true)\n",
      " |-- Customer: string (nullable = true)\n",
      " |-- Employee: string (nullable = true)\n",
      " |-- OrderCount: string (nullable = true)\n",
      " |-- OrderDate: string (nullable = true)\n",
      " |-- StandardCost: string (nullable = true)\n",
      " |-- UnitPrice: string (nullable = true)\n",
      " |-- UnitPriceDiscount: string (nullable = true)\n",
      " |-- Discount: string (nullable = true)\n",
      " |-- ListPrice: string (nullable = true)\n",
      " |-- SaleswithStandard: string (nullable = true)\n",
      " |-- NetSales: string (nullable = true)\n",
      " |-- OrderQuantity: string (nullable = true)\n",
      " |-- Sales: string (nullable = true)\n",
      "\n"
     ]
    }
   ],
   "source": [
    "df.printSchema()"
   ]
  },
  {
   "attachments": {},
   "cell_type": "markdown",
   "id": "61ca84a5",
   "metadata": {
    "heading_collapsed": true
   },
   "source": [
    "### Common dataframe actions"
   ]
  },
  {
   "cell_type": "code",
   "execution_count": 13,
   "id": "79fb5014",
   "metadata": {
    "hidden": true
   },
   "outputs": [
    {
     "name": "stdout",
     "output_type": "stream",
     "text": [
      "+---------------+------------------+------------------------------+-------------+-------+--------+--------------+----------------+-----------+----------+---------+------------+---------+-----------------+--------+---------+-----------------+--------+-------------+---------+\n",
      "|productcategory|productsubcategory|product                       |saleterritory|Country|City    |Sate          |Customer        |Employee   |OrderCount|OrderDate|StandardCost|UnitPrice|UnitPriceDiscount|Discount|ListPrice|SaleswithStandard|NetSales|OrderQuantity|Sales    |\n",
      "+---------------+------------------+------------------------------+-------------+-------+--------+--------------+----------------+-----------+----------+---------+------------+---------+-----------------+--------+---------+-----------------+--------+-------------+---------+\n",
      "|Components     |Handlebars        |HL Mountain Handlebars        |France       |France |Paris   |Seine (Paris) |Ty Loren Carlson|Amy Alberts|1         |00:00.0  |53.3999     |65.6018  |0                |0       |109.3364 |53.3999          |12.2019 |1            |65.6018  |\n",
      "|Clothing       |Gloves            |Full-Finger Gloves, L         |France       |France |Suresnes|Hauts de Seine|Mindy Martin    |Amy Alberts|1         |00:00.0  |15.6709     |22.794   |0                |0       |37.99    |47.0127          |21.3693 |3            |68.382   |\n",
      "|Clothing       |Gloves            |Full-Finger Gloves, S         |France       |France |Suresnes|Hauts de Seine|Mindy Martin    |Amy Alberts|1         |00:00.0  |15.6709     |22.794   |0                |0       |37.99    |15.6709          |7.1231  |1            |22.794   |\n",
      "|Bikes          |Mountain Bikes    |Mountain-200 Black, 38        |France       |France |Suresnes|Hauts de Seine|Mindy Martin    |Amy Alberts|1         |00:00.0  |1251.9813   |1229.4589|0                |0       |2049.0982|3755.9439        |-67.5672|3            |3688.3767|\n",
      "|Bikes          |Mountain Bikes    |Mountain-200 Black, 42        |France       |France |Suresnes|Hauts de Seine|Mindy Martin    |Amy Alberts|1         |00:00.0  |1251.9813   |1229.4589|0                |0       |2049.0982|2503.9626        |-45.0448|2            |2458.9178|\n",
      "|Bikes          |Mountain Bikes    |Mountain-200 Silver, 42       |France       |France |Suresnes|Hauts de Seine|Mindy Martin    |Amy Alberts|1         |00:00.0  |1265.6195   |1242.8518|0                |0       |2071.4196|2531.239         |-45.5354|2            |2485.7036|\n",
      "|Clothing       |Gloves            |Full-Finger Gloves, L         |France       |France |Orly    |Val de Marne  |Raman Iyer      |Amy Alberts|1         |00:00.0  |15.6709     |22.794   |0                |0       |37.99    |31.3418          |14.2462 |2            |45.588   |\n",
      "|Clothing       |Gloves            |Full-Finger Gloves, M         |France       |France |Orly    |Val de Marne  |Raman Iyer      |Amy Alberts|1         |00:00.0  |15.6709     |22.794   |0                |0       |37.99    |47.0127          |21.3693 |3            |68.382   |\n",
      "|Components     |Headsets          |HL Headset                    |France       |France |Cergy   |Val d'Oise    |James Glynn     |Amy Alberts|1         |00:00.0  |55.3801     |74.838   |0                |0       |124.73   |276.9005         |97.2895 |5            |374.19   |\n",
      "|Components     |Mountain Frames   |HL Mountain Frame - Black, 38 |France       |France |Cergy   |Val d'Oise    |James Glynn     |Amy Alberts|1         |00:00.0  |739.041     |736.1455 |0                |0       |1226.9091|2217.123         |-8.6865 |3            |2208.4365|\n",
      "|Components     |Mountain Frames   |HL Mountain Frame - Black, 42 |France       |France |Cergy   |Val d'Oise    |James Glynn     |Amy Alberts|1         |00:00.0  |739.041     |736.1455 |0                |0       |1226.9091|739.041          |-2.8955 |1            |736.1455 |\n",
      "|Components     |Mountain Frames   |HL Mountain Frame - Silver, 46|France       |France |Cergy   |Val d'Oise    |James Glynn     |Amy Alberts|1         |00:00.0  |747.2002    |744.2727 |0                |0       |1240.4545|1494.4004        |-5.855  |2            |1488.5454|\n",
      "|Clothing       |Jerseys           |Long-Sleeve Logo Jersey, XL   |France       |France |Cergy   |Val d'Oise    |James Glynn     |Amy Alberts|1         |00:00.0  |38.4923     |28.8404  |0                |0       |48.0673  |230.9538         |-57.9114|6            |173.0424 |\n",
      "|Clothing       |Bib-Shorts        |Men's Bib-Shorts, S           |France       |France |Cergy   |Val d'Oise    |James Glynn     |Amy Alberts|1         |00:00.0  |37.1209     |53.994   |0                |0       |89.99    |74.2418          |33.7462 |2            |107.988  |\n",
      "|Clothing       |Shorts            |Men's Sports Shorts, S        |France       |France |Cergy   |Val d'Oise    |James Glynn     |Amy Alberts|1         |00:00.0  |24.7459     |35.994   |0                |0       |59.99    |98.9836          |44.9924 |4            |143.976  |\n",
      "|Components     |Mountain Frames   |ML Mountain Frame - Black, 38 |France       |France |Cergy   |Val d'Oise    |James Glynn     |Amy Alberts|1         |00:00.0  |185.8193    |209.256  |0                |0       |348.76   |371.6386         |46.8734 |2            |418.512  |\n",
      "|Bikes          |Mountain Bikes    |Mountain-200 Black, 38        |France       |France |Orly    |Val de Marne  |Raman Iyer      |Amy Alberts|1         |00:00.0  |1251.9813   |1229.4589|0                |0       |2049.0982|2503.9626        |-45.0448|2            |2458.9178|\n",
      "|Bikes          |Mountain Bikes    |Mountain-200 Black, 42        |France       |France |Cergy   |Val d'Oise    |James Glynn     |Amy Alberts|1         |00:00.0  |1251.9813   |1229.4589|0                |0       |2049.0982|1251.9813        |-22.5224|1            |1229.4589|\n",
      "|Bikes          |Mountain Bikes    |Mountain-200 Black, 42        |France       |France |Orly    |Val de Marne  |Raman Iyer      |Amy Alberts|1         |00:00.0  |1251.9813   |1229.4589|0                |0       |2049.0982|2503.9626        |-45.0448|2            |2458.9178|\n",
      "|Bikes          |Mountain Bikes    |Mountain-200 Black, 46        |France       |France |Cergy   |Val d'Oise    |James Glynn     |Amy Alberts|1         |00:00.0  |1251.9813   |1229.4589|0                |0       |2049.0982|2503.9626        |-45.0448|2            |2458.9178|\n",
      "+---------------+------------------+------------------------------+-------------+-------+--------+--------------+----------------+-----------+----------+---------+------------+---------+-----------------+--------+---------+-----------------+--------+-------------+---------+\n",
      "only showing top 20 rows\n",
      "\n"
     ]
    }
   ],
   "source": [
    "france = df.filter(df.saleterritory == \"France\").show(truncate=False)"
   ]
  },
  {
   "cell_type": "code",
   "execution_count": 12,
   "id": "91b2c614",
   "metadata": {
    "hidden": true,
    "scrolled": true
   },
   "outputs": [
    {
     "name": "stdout",
     "output_type": "stream",
     "text": [
      "+---------------+--------------+---------+---------+\n",
      "|productcategory| saleterritory|OrderDate|    Sales|\n",
      "+---------------+--------------+---------+---------+\n",
      "|       Clothing|United Kingdom|6/30/2012|68.786592|\n",
      "|    Accessories|United Kingdom|6/30/2012|       90|\n",
      "|       Clothing|United Kingdom|6/30/2012|  182.352|\n",
      "|       Clothing|United Kingdom|6/30/2012| 317.5964|\n",
      "|       Clothing|United Kingdom|6/30/2012|  159.558|\n",
      "|       Clothing|United Kingdom|6/30/2012|   45.588|\n",
      "|       Clothing|United Kingdom|6/30/2012|   22.794|\n",
      "|       Clothing|United Kingdom|6/30/2012|   22.794|\n",
      "|       Clothing|United Kingdom|6/30/2012|  42.3867|\n",
      "|       Clothing|United Kingdom|6/30/2012| 113.0312|\n",
      "|       Clothing|United Kingdom|6/30/2012|  42.3867|\n",
      "|     Components|United Kingdom|6/30/2012|  826.164|\n",
      "|     Components|United Kingdom|6/30/2012|  149.676|\n",
      "|     Components|United Kingdom|6/30/2012| 1472.291|\n",
      "|     Components|United Kingdom|6/30/2012| 736.1455|\n",
      "|     Components|United Kingdom|6/30/2012| 744.2727|\n",
      "|     Components|United Kingdom|6/30/2012|4465.6362|\n",
      "|     Components|United Kingdom|6/30/2012|2232.8181|\n",
      "|     Components|United Kingdom|6/30/2012|  360.258|\n",
      "|     Components|        France|6/30/2012|  65.6018|\n",
      "+---------------+--------------+---------+---------+\n",
      "only showing top 20 rows\n",
      "\n"
     ]
    }
   ],
   "source": [
    "df1 = df[['productcategory','saleterritory','OrderDate','Sales']]\n",
    "df1.show()"
   ]
  },
  {
   "cell_type": "code",
   "execution_count": 14,
   "id": "90f717c9",
   "metadata": {
    "hidden": true
   },
   "outputs": [
    {
     "name": "stdout",
     "output_type": "stream",
     "text": [
      "+--------------+-----+\n",
      "| saleterritory|count|\n",
      "+--------------+-----+\n",
      "|       Germany| 1864|\n",
      "|        France| 3530|\n",
      "|     Northwest| 7872|\n",
      "|     Southeast| 5937|\n",
      "|       Central| 5812|\n",
      "|        Canada|11444|\n",
      "|     Southwest|13379|\n",
      "|     Australia| 1713|\n",
      "|United Kingdom| 3520|\n",
      "|     Northeast| 5809|\n",
      "+--------------+-----+\n",
      "\n",
      "None\n"
     ]
    }
   ],
   "source": [
    "saleterritory = df.groupBy('saleterritory').count()\n",
    "print(saleterritory.show())"
   ]
  },
  {
   "attachments": {},
   "cell_type": "markdown",
   "id": "e8dd8913",
   "metadata": {
    "heading_collapsed": true
   },
   "source": [
    "### Use Spark SQL to query data"
   ]
  },
  {
   "cell_type": "code",
   "execution_count": 15,
   "id": "44ab4f66",
   "metadata": {
    "hidden": true
   },
   "outputs": [
    {
     "name": "stdout",
     "output_type": "stream",
     "text": [
      "+---------------+------------------+------------+--------------+--------------+------------+------------+----------------+--------------+----------+---------+------------+---------+-----------------+--------+---------+-----------------+----------+-------------+---------+\n",
      "|productcategory|productsubcategory|     product| saleterritory|       Country|        City|        Sate|        Customer|      Employee|OrderCount|OrderDate|StandardCost|UnitPrice|UnitPriceDiscount|Discount|ListPrice|SaleswithStandard|  NetSales|OrderQuantity|    Sales|\n",
      "+---------------+------------------+------------+--------------+--------------+------------+------------+----------------+--------------+----------+---------+------------+---------+-----------------+--------+---------+-----------------+----------+-------------+---------+\n",
      "|       Clothing|              Caps|AWC Logo Cap|United Kingdom|United Kingdom|       Berks|     England|      Gary Suess|   Amy Alberts|         1|  00:00.0|      6.9223|   5.0136|             0.02|  1.4038|   8.6442|          96.9122|-28.125608|           14|68.786592|\n",
      "|       Clothing|              Caps|AWC Logo Cap|United Kingdom|United Kingdom|      London|     England| Stefano Stefani|   Amy Alberts|         1|  00:00.0|      6.9223|   5.1865|                0|       0|   8.6442|          13.8446|   -3.4716|            2|   10.373|\n",
      "|       Clothing|              Caps|AWC Logo Cap|United Kingdom|United Kingdom|   Bracknell|     England| Gustavo Camargo|   Amy Alberts|         1|  00:00.0|      6.9223|   5.1865|                0|       0|   8.6442|          34.6115|    -8.679|            5|  25.9325|\n",
      "|       Clothing|              Caps|AWC Logo Cap|United Kingdom|United Kingdom|      London|     England|Christopher Beck|   Amy Alberts|         1|  00:00.0|      6.9223|   5.1865|                0|       0|   8.6442|          27.6892|   -6.9432|            4|   20.746|\n",
      "|       Clothing|              Caps|AWC Logo Cap|        France|        France|       Croix|        Nord|     Parul Manek|   Amy Alberts|         1|  00:00.0|      6.9223|    5.394|                0|       0|     8.99|          13.8446|   -3.0566|            2|   10.788|\n",
      "|       Clothing|              Caps|AWC Logo Cap|       Germany|       Germany|Grevenbroich|      Bayern|  Stephen Burton|   Amy Alberts|         1|  00:00.0|      6.9223|   5.2142|             0.02|  1.2514|     8.99|          83.0676|-21.748608|           12|61.318992|\n",
      "|       Clothing|              Caps|AWC Logo Cap|        France|        France|        Orly|Val de Marne|      Raman Iyer|   Amy Alberts|         1|  00:00.0|      6.9223|    5.394|                0|       0|     8.99|          20.7669|   -4.5849|            3|   16.182|\n",
      "|       Clothing|              Caps|AWC Logo Cap|United Kingdom|United Kingdom|    Woolston|     England| Terry Eminhizer|   Amy Alberts|         1|  00:00.0|      6.9223|    5.394|                0|       0|     8.99|          55.3784|  -12.2264|            8|   43.152|\n",
      "|       Clothing|              Caps|AWC Logo Cap|     Northwest| United States|      Casper|     Wyoming|Fran�ois Ferrier|David Campbell|         1|  00:00.0|      6.9223|   5.1865|                0|       0|   8.6442|          20.7669|   -5.2074|            3|  15.5595|\n",
      "|       Clothing|              Caps|AWC Logo Cap|     Northwest| United States|     Seattle|  Washington|  Richard Bready|David Campbell|         1|  00:00.0|      6.9223|   5.1865|                0|       0|   8.6442|          13.8446|   -3.4716|            2|   10.373|\n",
      "|       Clothing|              Caps|AWC Logo Cap|     Northwest| United States|    Longview|  Washington|   David Johnson|David Campbell|         1|  00:00.0|      6.9223|   5.1865|                0|       0|   8.6442|          27.6892|   -6.9432|            4|   20.746|\n",
      "|       Clothing|              Caps|AWC Logo Cap|     Northwest| United States|     Seattle|  Washington|  Richard Bready|David Campbell|         1|  00:00.0|      6.9223|   5.1865|                0|       0|   8.6442|           6.9223|   -1.7358|            1|   5.1865|\n",
      "|       Clothing|              Caps|AWC Logo Cap|     Northwest| United States|    Longview|  Washington|   David Johnson|David Campbell|         1|  00:00.0|      6.9223|   5.1865|                0|       0|   8.6442|          20.7669|   -5.2074|            3|  15.5595|\n",
      "|       Clothing|              Caps|AWC Logo Cap|     Northwest| United States|      Casper|     Wyoming|Fran�ois Ferrier|David Campbell|         1|  00:00.0|      6.9223|   5.1865|                0|       0|   8.6442|           6.9223|   -1.7358|            1|   5.1865|\n",
      "|       Clothing|              Caps|AWC Logo Cap|     Northwest| United States|     Seattle|  Washington|  Richard Bready|David Campbell|         1|  00:00.0|      6.9223|   5.1865|                0|       0|   8.6442|           6.9223|   -1.7358|            1|   5.1865|\n",
      "|       Clothing|              Caps|AWC Logo Cap|     Northwest| United States|    Longview|  Washington|   David Johnson|David Campbell|         1|  00:00.0|      6.9223|   5.1865|                0|       0|   8.6442|          34.6115|    -8.679|            5|  25.9325|\n",
      "|       Clothing|              Caps|AWC Logo Cap|     Northwest| United States|     Seattle|  Washington|  Richard Bready|David Campbell|         1|  00:00.0|      6.9223|   5.1865|                0|       0|   8.6442|          13.8446|   -3.4716|            2|   10.373|\n",
      "|       Clothing|              Caps|AWC Logo Cap|     Northwest| United States|    Longview|  Washington|   David Johnson|David Campbell|         1|  00:00.0|      6.9223|   5.1865|                0|       0|   8.6442|          27.6892|   -6.9432|            4|   20.746|\n",
      "|       Clothing|              Caps|AWC Logo Cap|     Northwest| United States|      Tacoma|  Washington|    Henry Campen|David Campbell|         1|  00:00.0|      6.9223|   5.1865|                0|       0|   8.6442|          13.8446|   -3.4716|            2|   10.373|\n",
      "|       Clothing|              Caps|AWC Logo Cap|     Northwest| United States|        Kent|  Washington|    Jean Handley|David Campbell|         1|  00:00.0|      6.9223|   5.1865|                0|       0|   8.6442|           6.9223|   -1.7358|            1|   5.1865|\n",
      "+---------------+------------------+------------+--------------+--------------+------------+------------+----------------+--------------+----------+---------+------------+---------+-----------------+--------+---------+-----------------+----------+-------------+---------+\n",
      "only showing top 20 rows\n",
      "\n"
     ]
    }
   ],
   "source": [
    "df.createOrReplaceTempView(\"sales\")\n",
    "output =  spark.sql(\"SELECT * from sales where productsubcategory='Caps'\")\n",
    "output.show()"
   ]
  },
  {
   "cell_type": "code",
   "execution_count": 16,
   "id": "e3f12915",
   "metadata": {
    "hidden": true
   },
   "outputs": [
    {
     "name": "stdout",
     "output_type": "stream",
     "text": [
      "+---------------+------------------+--------------------+--------------+--------------+----------+------------+---------+---------+-------------+-----------+\n",
      "|productcategory|productsubcategory|             product| saleterritory|       Country| OrderDate|StandardCost|UnitPrice|ListPrice|OrderQuantity|      Sales|\n",
      "+---------------+------------------+--------------------+--------------+--------------+----------+------------+---------+---------+-------------+-----------+\n",
      "|       Clothing|           Jerseys|Long-Sleeve Logo ...|United Kingdom|United Kingdom| 6/30/2012|     38.4923|   27.879|  48.0673|           14|  382.49988|\n",
      "|       Clothing|            Tights|   Women's Tights, L|United Kingdom|United Kingdom| 6/30/2012|     30.9334|  43.4942|    74.99|           13| 554.116108|\n",
      "|       Clothing|            Tights|   Women's Tights, S|United Kingdom|United Kingdom| 6/30/2012|     30.9334|  43.4942|    74.99|           13| 554.116108|\n",
      "|       Clothing|             Vests|     Classic Vest, M|       Germany|       Germany| 6/30/2013|      23.749|   34.925|     63.5|           18|   597.2175|\n",
      "|       Clothing|             Vests|     Classic Vest, S|       Germany|       Germany| 6/30/2013|      23.749|   34.925|     63.5|           15|  497.68125|\n",
      "|    Accessories|        Bike Racks| Hitch Rack - 4-Bike|       Germany|       Germany| 6/30/2013|       44.88|       66|      120|           16|     1003.2|\n",
      "|     Components|    Touring Frames|HL Touring Frame ...|       Germany|       Germany| 6/30/2013|    601.7437|  602.346|  1003.91|           10|    6023.46|\n",
      "|       Clothing|           Jerseys|Long-Sleeve Logo ...|       Germany|       Germany| 6/30/2013|     38.4923|  27.4945|    49.99|           15| 391.796625|\n",
      "|       Clothing|           Jerseys|Short-Sleeve Clas...|       Germany|       Germany| 6/30/2013|     41.5723|  31.3142|    53.99|           12| 368.254992|\n",
      "|       Clothing|           Jerseys|Short-Sleeve Clas...|       Germany|       Germany| 6/30/2013|     41.5723|   32.394|    53.99|           10|     323.94|\n",
      "|          Bikes|     Touring Bikes|Touring-1000 Blue...|       Germany|       Germany| 6/30/2013|   1481.9379|1382.7606|  2384.07|           13|17616.37004|\n",
      "|          Bikes|     Touring Bikes|Touring-3000 Yell...|       Germany|       Germany| 6/30/2013|    461.4448| 334.0575|   742.35|           11|3123.437625|\n",
      "|       Clothing|            Shorts|Women's Mountain ...|United Kingdom|United Kingdom| 7/31/2013|     26.1763|  38.4945|    69.99|           17| 621.686175|\n",
      "|    Accessories|   Hydration Packs|Hydration Pack - ...|United Kingdom|United Kingdom|10/30/2013|     20.5663|   32.994|    54.99|           10|     329.94|\n",
      "|     Components|   Mountain Frames|ML Mountain Frame...|United Kingdom|United Kingdom|10/30/2013|    199.3757| 211.1722|   364.09|           13|2690.333828|\n",
      "|       Clothing|           Jerseys|Short-Sleeve Clas...|United Kingdom|United Kingdom|10/30/2013|     41.5723|  31.3142|    53.99|           11| 337.567076|\n",
      "|       Clothing|           Jerseys|Short-Sleeve Clas...|United Kingdom|United Kingdom|10/30/2013|     41.5723|  31.3142|    53.99|           11| 337.567076|\n",
      "|          Bikes|    Mountain Bikes|Mountain-100 Blac...|     Northwest| United States| 8/31/2011|   1898.0944| 2024.994|  3374.99|           10|   20249.94|\n",
      "|     Components|       Road Frames|LL Road Frame - R...|     Northwest| United States| 5/30/2012|    187.1571| 195.5876|   337.22|           11|2108.434328|\n",
      "|          Bikes|    Mountain Bikes|Mountain-200 Blac...|     Northwest| United States| 5/30/2012|   1251.9813|1229.4589|2049.0982|           10|  12294.589|\n",
      "+---------------+------------------+--------------------+--------------+--------------+----------+------------+---------+---------+-------------+-----------+\n",
      "only showing top 20 rows\n",
      "\n"
     ]
    }
   ],
   "source": [
    "output = spark.sql('SELECT * from sales WHERE `UnitPrice` > 20 AND OrderQuantity >= 10')\n",
    "output.show()"
   ]
  },
  {
   "cell_type": "code",
   "execution_count": 16,
   "id": "54d2ef25",
   "metadata": {
    "hidden": true
   },
   "outputs": [
    {
     "name": "stdout",
     "output_type": "stream",
     "text": [
      "+-----+---------------+\n",
      "|total|productcategory|\n",
      "+-----+---------------+\n",
      "|24800|          Bikes|\n",
      "|12260|       Clothing|\n",
      "| 5098|    Accessories|\n",
      "|18683|     Components|\n",
      "|   39|           NULL|\n",
      "+-----+---------------+\n",
      "\n"
     ]
    }
   ],
   "source": [
    "output = spark.sql('SELECT COUNT(*) as total, productcategory from sales GROUP BY productcategory')\n",
    "output.show()"
   ]
  },
  {
   "attachments": {},
   "cell_type": "markdown",
   "id": "7e3838f8",
   "metadata": {},
   "source": [
    "### Persist data to database"
   ]
  },
  {
   "cell_type": "code",
   "execution_count": 17,
   "id": "a52671c7",
   "metadata": {},
   "outputs": [],
   "source": [
    "dest_tbl = 'public.\"pyspark_sales_table\"'\n",
    "database = \"AdventureWorks\"\n",
    "password = \"demopass\"#os.environ['PGPASS']\n",
    "user = \"etl\"#os.environ['PGUID']"
   ]
  },
  {
   "cell_type": "code",
   "execution_count": 18,
   "id": "9788af33",
   "metadata": {},
   "outputs": [],
   "source": [
    "df.write.mode(\"overwrite\") \\\n",
    "    .format(\"jdbc\") \\\n",
    "    .option(\"url\", f\"jdbc:postgresql://localhost:5432/{database}\") \\\n",
    "    .option(\"dbtable\", dest_tbl) \\\n",
    "    .option(\"user\", user) \\\n",
    "    .option(\"password\", password) \\\n",
    "    .option(\"driver\",  \"org.postgresql.Driver\") \\\n",
    "    .save()"
   ]
  },
  {
   "cell_type": "code",
   "execution_count": null,
   "id": "1d575df0",
   "metadata": {},
   "outputs": [],
   "source": []
  }
 ],
 "metadata": {
  "kernelspec": {
   "display_name": "Python 3 (ipykernel)",
   "language": "python",
   "name": "python3"
  },
  "language_info": {
   "codemirror_mode": {
    "name": "ipython",
    "version": 3
   },
   "file_extension": ".py",
   "mimetype": "text/x-python",
   "name": "python",
   "nbconvert_exporter": "python",
   "pygments_lexer": "ipython3",
   "version": "3.10.11"
  }
 },
 "nbformat": 4,
 "nbformat_minor": 5
}
